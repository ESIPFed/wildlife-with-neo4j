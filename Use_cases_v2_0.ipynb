{
  "nbformat": 4,
  "nbformat_minor": 0,
  "metadata": {
    "colab": {
      "name": "Use cases v2.0.ipynb",
      "provenance": [],
      "collapsed_sections": [],
      "include_colab_link": true
    },
    "kernelspec": {
      "name": "python3",
      "display_name": "Python 3"
    }
  },
  "cells": [
    {
      "cell_type": "markdown",
      "metadata": {
        "id": "view-in-github",
        "colab_type": "text"
      },
      "source": [
        "<a href=\"https://colab.research.google.com/github/ESIPFed/wildlife-with-neo4j/blob/main/Use_cases_v2_0.ipynb\" target=\"_parent\"><img src=\"https://colab.research.google.com/assets/colab-badge.svg\" alt=\"Open In Colab\"/></a>"
      ]
    },
    {
      "cell_type": "code",
      "metadata": {
        "id": "0iRJSDCecc-i"
      },
      "source": [
        "# Run this only on cold-start or after factory reset runtime\n",
        "# Module dependency installation block\n",
        "\n",
        "!pip install neo4j-driver\n",
        "!pip install \"graphistry[all]\""
      ],
      "execution_count": null,
      "outputs": []
    },
    {
      "cell_type": "code",
      "metadata": {
        "id": "G1DR5tWMTSsf"
      },
      "source": [
        "# Constants declaration section\n",
        "\n",
        "# Constants for Neo4j in the cloud\n",
        "DATABASE_AURA_UID = \"neo4j\"\n",
        "DATABASE_AURA_PWD = \"Qmr2Yi06ACQxz7RxiJxyM261tYDlwn8Khamnn1Bic5M\"\n",
        "DATABASE_AURA_URI = \"//bde80852.databases.neo4j.io\"\n",
        "DATABASE_AURA_CONNECTION_SCHEME = \"neo4j+s:\"\n",
        "DATABASE_AURA_CONNECTION_SCHEME_AND_URI = DATABASE_AURA_CONNECTION_SCHEME + DATABASE_AURA_URI\n",
        "\n",
        "# Constants for Graphistry\n",
        "GRAPHISTRY_API_NUMBER = 3\n",
        "GRAPHISTRY_PROTOCOL = \"https\"\n",
        "GRAPHISTRY_SERVER = \"hub.graphistry.com\"\n",
        "GRAPHISTRY_UID = \"brian\"\n",
        "GRAPHISTRY_PWD = \"bigbirdtweet\"\n",
        "\n",
        "# Neo4j required modules and connect to Neo4j\n",
        "from neo4j import GraphDatabase, basic_auth\n",
        "neo4jSessionDriver = GraphDatabase.driver(DATABASE_AURA_CONNECTION_SCHEME_AND_URI, auth=(DATABASE_AURA_UID, DATABASE_AURA_PWD))\n",
        "\n",
        "# Graphistry required modules and register Graphistry API key\n",
        "import graphistry\n",
        "graphistry.register(api=GRAPHISTRY_API_NUMBER, protocol=GRAPHISTRY_PROTOCOL, server=GRAPHISTRY_SERVER, username=GRAPHISTRY_UID, password=GRAPHISTRY_PWD)\n",
        "\n",
        "# Pandas DataFrame required for working with Graphistry\n",
        "from pandas import DataFrame\n",
        "\n",
        "\n",
        "#################### FUNCTION DECLARATIONS ####################\n",
        "\n",
        "# Function definition block if approach #2 is eventually used\n",
        "\n",
        "def makeSrcDstList(inputDF):\n",
        "  # Function returns a list of lists that can be used to draw a graph of connected nodes.  This \"list of lists\" can also be thought of as a \"list of edges\", where \n",
        "  # each edge is a list made up of a \"source node\" and \"destination node\" pair, like [source_node_1, destination_node_1].  So the returned list looks like: \n",
        "  # [[source_node_1, destination_node_1], [source_node_2, destination_node_2], [source_node_3, destination_node_3], ...]\n",
        "  # inputDF must be a DataFrame.  Format of inputDF: each row has multiple columns, here each column corresponds to the variable returned by the Cypher query.\n",
        "  srcDstList = []\n",
        "\n",
        "  # Iterate through the resultDF table.  For each row, register an edge linking the cell in column N to the cell in column N+1 \n",
        "  # resultDF.shape returns a tuple \"(<number of rows>, <number of columns>\".\n",
        "  for row in range(inputDF.shape[0]):\n",
        "    for column in range(inputDF.shape[1]-1):\n",
        "      candidateSrcDst = [inputDF.iloc[row, column], inputDF.iloc[row, column+1]]\n",
        "      try:\n",
        "        x = srcDstList.index(candidateSrcDst)\n",
        "      except ValueError:\n",
        "        srcDstList.append(candidateSrcDst)\n",
        "  return srcDstList\n",
        "\n",
        "\n",
        "\n",
        "def makeGraphistryPlotterObjectFromQueryString(queryString):\n",
        "  # Function takes a query string and returns a graphistry plotter object ready for visualization\n",
        "  \n",
        "  # Issue the query to Neo4j and get back the results in a DataFrame\n",
        "  # resultDF will be a DataFrame with a number of rows and the columns corresponding to the rows and columns returned by the Cypher query\n",
        "  queryResults = neo4jSessionDriver.session().run(queryString)\n",
        "  resultDF = DataFrame(queryResults.data())\n",
        "\n",
        "  display (resultDF)\n",
        "\n",
        "  # Convert the result DataFrame into a list of graph edges that can be used to create a graphistry Plotter object\n",
        "  graphEdgesDF = DataFrame(makeSrcDstList(resultDF), columns = ['Source', 'Destination'])\n",
        "  graphistryPlotterObject = graphistry.bind(source=\"Source\", destination=\"Destination\").edges(graphEdgesDF)\n",
        "  \n",
        "  return graphistryPlotterObject"
      ],
      "execution_count": null,
      "outputs": []
    },
    {
      "cell_type": "markdown",
      "metadata": {
        "id": "Evg57DulJj49"
      },
      "source": [
        "Part 1: What organizations have conservation priorities for Species X?"
      ]
    },
    {
      "cell_type": "code",
      "metadata": {
        "id": "bM1rvDC1tqFn"
      },
      "source": [
        "# CHANGE THE SPECIES NAME BELOW ACCORDINGLY\n",
        "speciesName = 'Piping Plover'\n",
        "\n",
        "# DO NOT TOUCH THE REST\n",
        "query_string = '''\n",
        "match (bird:Bird {name:\"TARGET_1_STRING\"})-[:HAS_PRIORITY]->(priority:Priority)-[:HAS_PLAN]->(plan:Plan)-[:HAS_ORGANIZATION]->(organization:Organization)\n",
        "return bird.hasCommonName, priority.name, plan.name, organization.name\n",
        "'''\n",
        "\n",
        "query_string = query_string.replace(\"TARGET_1_STRING\", speciesName)\n",
        "\n",
        "with neo4jSessionDriver.session() as session:\n",
        "    queryResults = session.run(query_string)\n",
        "    resultDF = DataFrame(queryResults.data())\n",
        "\n",
        "# resultDF will return a DataFrame table with a number of rows and the columns corresponding to the Cypher query"
      ],
      "execution_count": null,
      "outputs": []
    },
    {
      "cell_type": "code",
      "metadata": {
        "colab": {
          "base_uri": "https://localhost:8080/",
          "height": 142
        },
        "id": "eieH8wr1e2b4",
        "outputId": "100446f7-5189-406d-bf10-95a80a037bda"
      },
      "source": [
        "resultDF"
      ],
      "execution_count": null,
      "outputs": [
        {
          "output_type": "execute_result",
          "data": {
            "text/html": [
              "<div>\n",
              "<style scoped>\n",
              "    .dataframe tbody tr th:only-of-type {\n",
              "        vertical-align: middle;\n",
              "    }\n",
              "\n",
              "    .dataframe tbody tr th {\n",
              "        vertical-align: top;\n",
              "    }\n",
              "\n",
              "    .dataframe thead th {\n",
              "        text-align: right;\n",
              "    }\n",
              "</style>\n",
              "<table border=\"1\" class=\"dataframe\">\n",
              "  <thead>\n",
              "    <tr style=\"text-align: right;\">\n",
              "      <th></th>\n",
              "      <th>bird.hasCommonName</th>\n",
              "      <th>priority.name</th>\n",
              "      <th>plan.name</th>\n",
              "      <th>organization.name</th>\n",
              "    </tr>\n",
              "  </thead>\n",
              "  <tbody>\n",
              "    <tr>\n",
              "      <th>0</th>\n",
              "      <td>Piping Plover</td>\n",
              "      <td>NCWAP 2015 Surveys Priority 361</td>\n",
              "      <td>North Carolina Wildlife Action Plan 2015</td>\n",
              "      <td>North Carolina Wildlife Resources Commission</td>\n",
              "    </tr>\n",
              "    <tr>\n",
              "      <th>1</th>\n",
              "      <td>Piping Plover</td>\n",
              "      <td>NCWAP 2015 Monitoring Priority 370</td>\n",
              "      <td>North Carolina Wildlife Action Plan 2015</td>\n",
              "      <td>North Carolina Wildlife Resources Commission</td>\n",
              "    </tr>\n",
              "    <tr>\n",
              "      <th>2</th>\n",
              "      <td>Piping Plover</td>\n",
              "      <td>NCWAP 2015 Conservation Programs And Partnersh...</td>\n",
              "      <td>North Carolina Wildlife Action Plan 2015</td>\n",
              "      <td>North Carolina Wildlife Resources Commission</td>\n",
              "    </tr>\n",
              "  </tbody>\n",
              "</table>\n",
              "</div>"
            ],
            "text/plain": [
              "  bird.hasCommonName  ...                             organization.name\n",
              "0      Piping Plover  ...  North Carolina Wildlife Resources Commission\n",
              "1      Piping Plover  ...  North Carolina Wildlife Resources Commission\n",
              "2      Piping Plover  ...  North Carolina Wildlife Resources Commission\n",
              "\n",
              "[3 rows x 4 columns]"
            ]
          },
          "metadata": {
            "tags": []
          },
          "execution_count": 4
        }
      ]
    },
    {
      "cell_type": "markdown",
      "metadata": {
        "id": "KhTxh6Toe0f1"
      },
      "source": [
        "### **METHOD #1:  DON'T LIKE THIS METHOD, NOT RECOMMENDED**\n",
        "\n"
      ]
    },
    {
      "cell_type": "code",
      "metadata": {
        "colab": {
          "base_uri": "https://localhost:8080/",
          "height": 594
        },
        "id": "tpeQ1UoHYVHJ",
        "outputId": "b33fb5b6-3dc1-44b6-e0a2-7dd379a46875"
      },
      "source": [
        "# Method 1: results in the nuisance \"row result\" entity, cannot be gotten rid of because of the way the hypergraph API does it job\n",
        "\n",
        "# CHANGE THE SPECIES NAME BELOW ACCORDINGLY\n",
        "speciesName = 'Piping Plover'\n",
        "\n",
        "# DO NOT TOUCH THE REST\n",
        "query_string = '''\n",
        "match (bird:Bird {name:\"TARGET_1_STRING\"})-[:HAS_PRIORITY]->(priority:Priority)-[:HAS_PLAN]->(plan:Plan)-[:HAS_ORGANIZATION]->(organization:Organization)\n",
        "return bird.hasCommonName, priority.name, plan.name, organization.name\n",
        "'''\n",
        "\n",
        "query_string = query_string.replace(\"TARGET_1_STRING\", speciesName)\n",
        "\n",
        "queryResults = neo4jSessionDriver.session().run(query_string)\n",
        "resultDF = DataFrame(queryResults.data())\n",
        "\n",
        "viz = graphistry.hypergraph(resultDF, direct=False)\n",
        "viz['graph'].plot()"
      ],
      "execution_count": null,
      "outputs": [
        {
          "output_type": "stream",
          "text": [
            "# links 12\n",
            "# events 3\n",
            "# attrib entities 6\n"
          ],
          "name": "stdout"
        },
        {
          "output_type": "execute_result",
          "data": {
            "text/html": [
              "\n",
              "            <iframe id=\"bdd05bb1-18c9-4ac4-b2e3-05dddff07079\" src=\"https://hub.graphistry.com/graph/graph.html?dataset=e2982ec6175e4406b5b53db64440bea6&type=arrow&viztoken=ae40313b-eb3a-48c7-81c0-853fdb6aec4c&usertag=400bd359-pygraphistry-0.14.1&splashAfter=1609525852&info=true\"\n",
              "                    allowfullscreen=\"true\" webkitallowfullscreen=\"true\" mozallowfullscreen=\"true\"\n",
              "                    oallowfullscreen=\"true\" msallowfullscreen=\"true\"\n",
              "                    style=\"width:100%; height:500px; border: 1px solid #DDD; overflow: hidden\">\n",
              "            </iframe>\n",
              "        \n",
              "            <script>\n",
              "                try {\n",
              "                  $(\"#bdd05bb1-18c9-4ac4-b2e3-05dddff07079\").bind('mousewheel', function(e) { e.preventDefault(); });\n",
              "                } catch (e) { console.error('exn catching scroll', e); }\n",
              "            </script>\n",
              "        "
            ],
            "text/plain": [
              "<IPython.core.display.HTML object>"
            ]
          },
          "metadata": {
            "tags": []
          },
          "execution_count": 5
        }
      ]
    },
    {
      "cell_type": "markdown",
      "metadata": {
        "id": "aSvYJRc-ie09"
      },
      "source": [
        "### **METHOD #2: GOING WITH THIS METHOD FOR NOW, RESULTS IN RELATIVELY USER-FRIENDLY STUFF**\n",
        "\n",
        "\n",
        "\n",
        "\n"
      ]
    },
    {
      "cell_type": "markdown",
      "metadata": {
        "id": "cu2eIpGTl3de"
      },
      "source": [
        "Part 1: What organizations have conservation priorities for Species X? (Part 2, also using Method #2, continues below)\n",
        "\n",
        "(Insert text written by wildlife refuge manager who is concerned about mananaging this Species X)"
      ]
    },
    {
      "cell_type": "code",
      "metadata": {
        "id": "D4lpdh3IaMhM",
        "colab": {
          "base_uri": "https://localhost:8080/",
          "height": 668
        },
        "outputId": "955e099c-d2ae-4bb8-ca00-504fcff423cf"
      },
      "source": [
        "# CHANGE THE SPECIES NAME BELOW ACCORDINGLY\n",
        "speciesName = 'Piping Plover'\n",
        "\n",
        "# DO NOT TOUCH THE REST\n",
        "query_string = '''\n",
        "match (bird:Bird {name:\"TARGET_1_STRING\"})-[:HAS_PRIORITY]->(priority:Priority)-[:HAS_PLAN]->(plan:Plan)-[:HAS_ORGANIZATION]->(organization:Organization)\n",
        "return bird.hasCommonName, priority.name, plan.name, organization.name\n",
        "'''\n",
        "\n",
        "query_string = query_string.replace(\"TARGET_1_STRING\", speciesName)\n",
        "\n",
        "viz = makeGraphistryPlotterObjectFromQueryString(query_string)\n",
        "viz.plot()\n"
      ],
      "execution_count": null,
      "outputs": [
        {
          "output_type": "display_data",
          "data": {
            "text/html": [
              "<div>\n",
              "<style scoped>\n",
              "    .dataframe tbody tr th:only-of-type {\n",
              "        vertical-align: middle;\n",
              "    }\n",
              "\n",
              "    .dataframe tbody tr th {\n",
              "        vertical-align: top;\n",
              "    }\n",
              "\n",
              "    .dataframe thead th {\n",
              "        text-align: right;\n",
              "    }\n",
              "</style>\n",
              "<table border=\"1\" class=\"dataframe\">\n",
              "  <thead>\n",
              "    <tr style=\"text-align: right;\">\n",
              "      <th></th>\n",
              "      <th>bird.hasCommonName</th>\n",
              "      <th>priority.name</th>\n",
              "      <th>plan.name</th>\n",
              "      <th>organization.name</th>\n",
              "    </tr>\n",
              "  </thead>\n",
              "  <tbody>\n",
              "    <tr>\n",
              "      <th>0</th>\n",
              "      <td>Piping Plover</td>\n",
              "      <td>NCWAP 2015 Surveys Priority 361</td>\n",
              "      <td>North Carolina Wildlife Action Plan 2015</td>\n",
              "      <td>North Carolina Wildlife Resources Commission</td>\n",
              "    </tr>\n",
              "    <tr>\n",
              "      <th>1</th>\n",
              "      <td>Piping Plover</td>\n",
              "      <td>NCWAP 2015 Monitoring Priority 370</td>\n",
              "      <td>North Carolina Wildlife Action Plan 2015</td>\n",
              "      <td>North Carolina Wildlife Resources Commission</td>\n",
              "    </tr>\n",
              "    <tr>\n",
              "      <th>2</th>\n",
              "      <td>Piping Plover</td>\n",
              "      <td>NCWAP 2015 Conservation Programs And Partnersh...</td>\n",
              "      <td>North Carolina Wildlife Action Plan 2015</td>\n",
              "      <td>North Carolina Wildlife Resources Commission</td>\n",
              "    </tr>\n",
              "  </tbody>\n",
              "</table>\n",
              "</div>"
            ],
            "text/plain": [
              "  bird.hasCommonName  ...                             organization.name\n",
              "0      Piping Plover  ...  North Carolina Wildlife Resources Commission\n",
              "1      Piping Plover  ...  North Carolina Wildlife Resources Commission\n",
              "2      Piping Plover  ...  North Carolina Wildlife Resources Commission\n",
              "\n",
              "[3 rows x 4 columns]"
            ]
          },
          "metadata": {
            "tags": []
          }
        },
        {
          "output_type": "execute_result",
          "data": {
            "text/html": [
              "\n",
              "            <iframe id=\"0ed4b192-f96f-4912-b675-e5f802612d3d\" src=\"https://hub.graphistry.com/graph/graph.html?dataset=4b26617520504a7d8c3614e0a74cc213&type=arrow&viztoken=329eb813-b295-454d-b44c-d8ced732c47a&usertag=7a7dc24b-pygraphistry-0.14.1&splashAfter=1609513404&info=true\"\n",
              "                    allowfullscreen=\"true\" webkitallowfullscreen=\"true\" mozallowfullscreen=\"true\"\n",
              "                    oallowfullscreen=\"true\" msallowfullscreen=\"true\"\n",
              "                    style=\"width:100%; height:500px; border: 1px solid #DDD; overflow: hidden\">\n",
              "            </iframe>\n",
              "        \n",
              "            <script>\n",
              "                try {\n",
              "                  $(\"#0ed4b192-f96f-4912-b675-e5f802612d3d\").bind('mousewheel', function(e) { e.preventDefault(); });\n",
              "                } catch (e) { console.error('exn catching scroll', e); }\n",
              "            </script>\n",
              "        "
            ],
            "text/plain": [
              "<IPython.core.display.HTML object>"
            ]
          },
          "metadata": {
            "tags": []
          },
          "execution_count": 7
        }
      ]
    },
    {
      "cell_type": "markdown",
      "metadata": {
        "id": "Jdc5uceTb835"
      },
      "source": [
        "Part 2: How are SGCN species being managed through conservation plans?"
      ]
    },
    {
      "cell_type": "code",
      "metadata": {
        "colab": {
          "base_uri": "https://localhost:8080/",
          "height": 945
        },
        "id": "s6i79AFZb8TY",
        "outputId": "51622863-15f4-4022-c73f-937c4db65a7b"
      },
      "source": [
        "query_string = '''\n",
        "MATCH (s:Species:NcSgcn)-[:HAS_PLAN]-(p:Plan) \n",
        "RETURN s.name as speciesname, p.name as planname\n",
        "'''\n",
        "\n",
        "viz = makeGraphistryPlotterObjectFromQueryString(query_string)\n",
        "viz.plot()"
      ],
      "execution_count": null,
      "outputs": [
        {
          "output_type": "display_data",
          "data": {
            "text/html": [
              "<div>\n",
              "<style scoped>\n",
              "    .dataframe tbody tr th:only-of-type {\n",
              "        vertical-align: middle;\n",
              "    }\n",
              "\n",
              "    .dataframe tbody tr th {\n",
              "        vertical-align: top;\n",
              "    }\n",
              "\n",
              "    .dataframe thead th {\n",
              "        text-align: right;\n",
              "    }\n",
              "</style>\n",
              "<table border=\"1\" class=\"dataframe\">\n",
              "  <thead>\n",
              "    <tr style=\"text-align: right;\">\n",
              "      <th></th>\n",
              "      <th>speciesname</th>\n",
              "      <th>planname</th>\n",
              "    </tr>\n",
              "  </thead>\n",
              "  <tbody>\n",
              "    <tr>\n",
              "      <th>0</th>\n",
              "      <td>American Oystercatcher</td>\n",
              "      <td>South Atlantic Migratory Bird Initiative Imple...</td>\n",
              "    </tr>\n",
              "    <tr>\n",
              "      <th>1</th>\n",
              "      <td>American Oystercatcher</td>\n",
              "      <td>Conservation Plan For The American Oystercatch...</td>\n",
              "    </tr>\n",
              "    <tr>\n",
              "      <th>2</th>\n",
              "      <td>American Oystercatcher</td>\n",
              "      <td>Atlantic Flyway Shorebird Business Strategy 2013</td>\n",
              "    </tr>\n",
              "    <tr>\n",
              "      <th>3</th>\n",
              "      <td>Piping Plover</td>\n",
              "      <td>South Atlantic Migratory Bird Initiative Imple...</td>\n",
              "    </tr>\n",
              "    <tr>\n",
              "      <th>4</th>\n",
              "      <td>Piping Plover</td>\n",
              "      <td>Conservation Plan For The American Oystercatch...</td>\n",
              "    </tr>\n",
              "    <tr>\n",
              "      <th>...</th>\n",
              "      <td>...</td>\n",
              "      <td>...</td>\n",
              "    </tr>\n",
              "    <tr>\n",
              "      <th>151</th>\n",
              "      <td>Prothonotary Warbler</td>\n",
              "      <td>South Atlantic Migratory Bird Initiative Imple...</td>\n",
              "    </tr>\n",
              "    <tr>\n",
              "      <th>152</th>\n",
              "      <td>Purple Sandpiper</td>\n",
              "      <td>Atlantic Flyway Shorebird Business Strategy 2013</td>\n",
              "    </tr>\n",
              "    <tr>\n",
              "      <th>153</th>\n",
              "      <td>Red-cockaded Woodpecker</td>\n",
              "      <td>South Atlantic Migratory Bird Initiative Imple...</td>\n",
              "    </tr>\n",
              "    <tr>\n",
              "      <th>154</th>\n",
              "      <td>Red-cockaded Woodpecker</td>\n",
              "      <td>Partners In Flight Landbird Conservation Plan ...</td>\n",
              "    </tr>\n",
              "    <tr>\n",
              "      <th>155</th>\n",
              "      <td>Red Crossbill</td>\n",
              "      <td>Partners In Flight Landbird Conservation Plan ...</td>\n",
              "    </tr>\n",
              "  </tbody>\n",
              "</table>\n",
              "<p>156 rows × 2 columns</p>\n",
              "</div>"
            ],
            "text/plain": [
              "                 speciesname                                           planname\n",
              "0     American Oystercatcher  South Atlantic Migratory Bird Initiative Imple...\n",
              "1     American Oystercatcher  Conservation Plan For The American Oystercatch...\n",
              "2     American Oystercatcher   Atlantic Flyway Shorebird Business Strategy 2013\n",
              "3              Piping Plover  South Atlantic Migratory Bird Initiative Imple...\n",
              "4              Piping Plover  Conservation Plan For The American Oystercatch...\n",
              "..                       ...                                                ...\n",
              "151     Prothonotary Warbler  South Atlantic Migratory Bird Initiative Imple...\n",
              "152         Purple Sandpiper   Atlantic Flyway Shorebird Business Strategy 2013\n",
              "153  Red-cockaded Woodpecker  South Atlantic Migratory Bird Initiative Imple...\n",
              "154  Red-cockaded Woodpecker  Partners In Flight Landbird Conservation Plan ...\n",
              "155            Red Crossbill  Partners In Flight Landbird Conservation Plan ...\n",
              "\n",
              "[156 rows x 2 columns]"
            ]
          },
          "metadata": {
            "tags": []
          }
        },
        {
          "output_type": "execute_result",
          "data": {
            "text/html": [
              "\n",
              "            <iframe id=\"4c0bba78-7921-423b-a790-f0f52ff3b913\" src=\"https://hub.graphistry.com/graph/graph.html?dataset=92f3e12a967640f7b57a1e82e736d7ad&type=arrow&viztoken=8bd3ff89-5005-4b13-b9ea-204f02b809e8&usertag=7a7dc24b-pygraphistry-0.14.1&splashAfter=1609513420&info=true\"\n",
              "                    allowfullscreen=\"true\" webkitallowfullscreen=\"true\" mozallowfullscreen=\"true\"\n",
              "                    oallowfullscreen=\"true\" msallowfullscreen=\"true\"\n",
              "                    style=\"width:100%; height:500px; border: 1px solid #DDD; overflow: hidden\">\n",
              "            </iframe>\n",
              "        \n",
              "            <script>\n",
              "                try {\n",
              "                  $(\"#4c0bba78-7921-423b-a790-f0f52ff3b913\").bind('mousewheel', function(e) { e.preventDefault(); });\n",
              "                } catch (e) { console.error('exn catching scroll', e); }\n",
              "            </script>\n",
              "        "
            ],
            "text/plain": [
              "<IPython.core.display.HTML object>"
            ]
          },
          "metadata": {
            "tags": []
          },
          "execution_count": 8
        }
      ]
    },
    {
      "cell_type": "markdown",
      "metadata": {
        "id": "EcVdwNJGjYIw"
      },
      "source": [
        "### **METHOD #3:  CLEANEST APPROACH, BUT RESULTS IN A VISUALIZATION THAT IS NOT USER FRIENDLY... REQUIRES FURTHER INVESTIGATION INTO THE THOROUGHLY UNFRIENDLY GRAPHISTRY API DOCUMENTATION.**\n",
        "\n",
        "\n",
        "\n",
        "\n"
      ]
    },
    {
      "cell_type": "code",
      "metadata": {
        "colab": {
          "base_uri": "https://localhost:8080/",
          "height": 543
        },
        "id": "nOgXBF8uKoen",
        "outputId": "38c275cc-baf0-4059-ef1a-64431af0b325"
      },
      "source": [
        "# Method 3: Most elegant method.  Uses a direct call to graphistry's cypher method and then plots the results.  \n",
        "# Problem is: don't know how to make graphistry display the node name instead of the node ID, and the rest of the graph is not intuitive.\n",
        "\n",
        "query_string = '''\n",
        "match (bird:Bird {name:\"TARGET_1_STRING\"})-[edgepriority:HAS_PRIORITY]->(priority:Priority)-[edgeplan:HAS_PLAN]->(plan:Plan)-[edgeorganization:HAS_ORGANIZATION]->(organization:Organization)\n",
        "return bird, edgepriority, priority, edgeplan, plan, edgeorganization, organization\n",
        "'''\n",
        "\n",
        "query_string = query_string.replace(\"TARGET_1_STRING\", speciesName)\n",
        "\n",
        "# Register Neo4j connection in Graphistry \n",
        "GRAPHISTRY_NEO4j_CREDENTIALS = {'uri': DATABASE_AURA_CONNECTION_SCHEME + DATABASE_AURA_URI, 'auth': (DATABASE_AURA_UID, DATABASE_AURA_PWD)}\n",
        "graphistry.register(bolt=GRAPHISTRY_NEO4j_CREDENTIALS)\n",
        "\n",
        "# The Cypher method returns a graphistry plotter object, and binds source, destination, and node.\n",
        "results = graphistry.cypher(query_string)\n",
        "\n",
        "results.plot()"
      ],
      "execution_count": null,
      "outputs": [
        {
          "output_type": "execute_result",
          "data": {
            "text/html": [
              "\n",
              "            <iframe id=\"a8432f26-9712-4f6a-95e9-61aba386dd9c\" src=\"https://hub.graphistry.com/graph/graph.html?dataset=771db2841fc14ab0a8aa01e6345005ea&type=arrow&viztoken=e23d8c32-d695-4bb3-815c-511256067bc8&usertag=400bd359-pygraphistry-0.14.1&splashAfter=1609525881&info=true\"\n",
              "                    allowfullscreen=\"true\" webkitallowfullscreen=\"true\" mozallowfullscreen=\"true\"\n",
              "                    oallowfullscreen=\"true\" msallowfullscreen=\"true\"\n",
              "                    style=\"width:100%; height:500px; border: 1px solid #DDD; overflow: hidden\">\n",
              "            </iframe>\n",
              "        \n",
              "            <script>\n",
              "                try {\n",
              "                  $(\"#a8432f26-9712-4f6a-95e9-61aba386dd9c\").bind('mousewheel', function(e) { e.preventDefault(); });\n",
              "                } catch (e) { console.error('exn catching scroll', e); }\n",
              "            </script>\n",
              "        "
            ],
            "text/plain": [
              "<IPython.core.display.HTML object>"
            ]
          },
          "metadata": {
            "tags": []
          },
          "execution_count": 6
        }
      ]
    }
  ]
}